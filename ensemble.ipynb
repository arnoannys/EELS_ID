{
  "cells": [
    {
      "cell_type": "code",
      "execution_count": null,
      "metadata": {
        "colab": {
          "base_uri": "https://localhost:8080/"
        },
        "id": "MEjqdKnQOptj",
        "outputId": "57fe789e-262a-492f-a764-a3cae8ca2791"
      },
      "outputs": [],
      "source": [
        "import tensorflow as tf\n",
        "import utils\n",
        "import tensorflow_addons as tfa\n",
        "from data_parameters import data_param\n",
        "\n",
        "print(tf.config.experimental.get_visible_devices())\n",
        "\n",
        "per_sys = data_param['per_sys']\n",
        "N_elem = len(per_sys)\n",
        "spectrum_length = data_param['spectrum_length']\n",
        "max_buffer = data_param['max_buffer']\n",
        "batch_size = 32\n",
        "\n",
        "\n",
        "val_dataset = utils.get_dataset(tf.data.TFRecordDataset.list_files('Core-loss EELS TFRecord/validationset/VALIDATION*.tfrecords', shuffle=True))\n",
        "val_dataset = val_dataset.shuffle(buffer_size= max_buffer , reshuffle_each_iteration=True).batch(batch_size).prefetch(tf.data.AUTOTUNE)  \n"
      ]
    },
    {
      "cell_type": "code",
      "execution_count": null,
      "metadata": {
        "id": "UOWhLw0-lhzB"
      },
      "outputs": [],
      "source": [
        "model1 = tf.keras.models.load_model('trained element identification models/UNet',custom_objects={'custom_loss': utils.custom_loss}) \n",
        "model2 = tf.keras.models.load_model('trained element identification models/ViT',custom_objects={'custom_loss': utils.custom_loss})\n",
        "\n",
        "models = [model1,model2]\n",
        "\n",
        "for idx,model in enumerate(models):\n",
        "        model._name = model.name + f'_{idx}'\n",
        "\n",
        "model_input = tf.keras.Input(shape=(spectrum_length, 1))\n",
        "model_outputs = [model(model_input) for model in models]\n",
        "ensemble_output = tf.keras.layers.Average()(model_outputs)\n",
        "ensemble_model = tf.keras.Model(inputs=model_input, outputs=ensemble_output)"
      ]
    },
    {
      "cell_type": "code",
      "execution_count": null,
      "metadata": {},
      "outputs": [],
      "source": [
        "ensemble_model.compile(optimizer=tf.keras.optimizers.Adam(learning_rate=0.001),   #doesn't matter here, no training\n",
        "                       loss=utils.custom_loss,                                   #doesn't matter here, no training\n",
        "                       metrics= [tfa.metrics.F1Score(N_elem, 'weighted', 0.8, name = 'f1')]) "
      ]
    },
    {
      "cell_type": "code",
      "execution_count": null,
      "metadata": {},
      "outputs": [],
      "source": [
        "ensemble_model.evaluate(val_dataset)"
      ]
    },
    {
      "cell_type": "code",
      "execution_count": null,
      "metadata": {
        "id": "DPnwuCwxriuH"
      },
      "outputs": [],
      "source": [
        "ensemble_model.save(f'new_trained_models/ensemble')"
      ]
    }
  ],
  "metadata": {
    "accelerator": "GPU",
    "colab": {
      "collapsed_sections": [],
      "provenance": []
    },
    "gpuClass": "standard",
    "kernelspec": {
      "display_name": "py39",
      "language": "python",
      "name": "python3"
    },
    "language_info": {
      "codemirror_mode": {
        "name": "ipython",
        "version": 3
      },
      "file_extension": ".py",
      "mimetype": "text/x-python",
      "name": "python",
      "nbconvert_exporter": "python",
      "pygments_lexer": "ipython3",
      "version": "3.9.15 (main, Nov 24 2022, 14:31:59) \n[GCC 11.2.0]"
    },
    "vscode": {
      "interpreter": {
        "hash": "a471a25ffcd2d79bb82c85243e7b644082b228fb0aecb1b9bdd7ff40df403d4c"
      }
    }
  },
  "nbformat": 4,
  "nbformat_minor": 0
}
